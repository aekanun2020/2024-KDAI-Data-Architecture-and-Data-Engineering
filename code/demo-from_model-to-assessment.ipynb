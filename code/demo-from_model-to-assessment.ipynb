{
 "cells": [
  {
   "cell_type": "code",
   "execution_count": 1,
   "id": "e3130448-a04b-4403-abd7-d18e33070d5c",
   "metadata": {},
   "outputs": [],
   "source": [
    "# Save to sql\n",
    "server = '34.125.58.101'\n",
    "database = 'TestDB'\n",
    "username = 'SA'\n",
    "password = 'Passw0rd123456'\n",
    "table_name = \"demoassessment\""
   ]
  },
  {
   "cell_type": "markdown",
   "id": "042bb614-b580-488f-98d1-8a1f2f541ff7",
   "metadata": {},
   "source": [
    "# 1. Profiling"
   ]
  },
  {
   "cell_type": "code",
   "execution_count": 2,
   "id": "b0b2e3da-aca2-4768-82f6-85e5a595a926",
   "metadata": {},
   "outputs": [],
   "source": [
    "import pandas as pd\n",
    "pd.set_option('display.float_format', lambda x: '%.4f' % x)\n",
    "# pd.set_option('display.max_rows', None)  # None หมายถึงไม่จำกัดจำนวนแถวที่จะแสดง\n"
   ]
  },
  {
   "cell_type": "code",
   "execution_count": 3,
   "id": "bbdb3b18-7449-49e0-a456-fd7a1305d7cc",
   "metadata": {},
   "outputs": [],
   "source": [
    "selectedCol_list = ['int_rate','loan_amnt']"
   ]
  },
  {
   "cell_type": "code",
   "execution_count": 4,
   "id": "e0cb0d65-6308-4efc-897c-fc802ecafb9a",
   "metadata": {},
   "outputs": [],
   "source": [
    "#raw_df = pd.read_csv('LoanStats_web.csv', usecols=selectedCol_list)"
   ]
  },
  {
   "cell_type": "code",
   "execution_count": 5,
   "id": "a4d35b68-d07e-414a-8723-c957e1a91ae8",
   "metadata": {},
   "outputs": [],
   "source": [
    "import pandas as pd\n",
    "from sqlalchemy import create_engine\n",
    "\n",
    "# Establishing the connection\n",
    "connection_string = f'mssql+pymssql://{username}:{password}@{server}/{database}'\n",
    "engine = create_engine(connection_string)\n",
    "\n",
    "# Reading from an existing SQL table\n",
    "query = \"SELECT * FROM loans_fact\"\n",
    "loans_fact_df = pd.read_sql(query, con=engine)"
   ]
  },
  {
   "cell_type": "code",
   "execution_count": 6,
   "id": "2044ab1c-66a1-4b0f-ac14-845c3dba7b74",
   "metadata": {},
   "outputs": [],
   "source": [
    "raw_df = loans_fact_df[selectedCol_list]"
   ]
  },
  {
   "cell_type": "code",
   "execution_count": 7,
   "id": "55318cfc-9cae-4f86-8059-99227fc5323d",
   "metadata": {},
   "outputs": [
    {
     "data": {
      "text/html": [
       "<div>\n",
       "<style scoped>\n",
       "    .dataframe tbody tr th:only-of-type {\n",
       "        vertical-align: middle;\n",
       "    }\n",
       "\n",
       "    .dataframe tbody tr th {\n",
       "        vertical-align: top;\n",
       "    }\n",
       "\n",
       "    .dataframe thead th {\n",
       "        text-align: right;\n",
       "    }\n",
       "</style>\n",
       "<table border=\"1\" class=\"dataframe\">\n",
       "  <thead>\n",
       "    <tr style=\"text-align: right;\">\n",
       "      <th></th>\n",
       "      <th>int_rate</th>\n",
       "      <th>loan_amnt</th>\n",
       "    </tr>\n",
       "  </thead>\n",
       "  <tbody>\n",
       "    <tr>\n",
       "      <th>0</th>\n",
       "      <td>0.1199</td>\n",
       "      <td>12800.0000</td>\n",
       "    </tr>\n",
       "    <tr>\n",
       "      <th>1</th>\n",
       "      <td>0.1531</td>\n",
       "      <td>9000.0000</td>\n",
       "    </tr>\n",
       "    <tr>\n",
       "      <th>2</th>\n",
       "      <td>0.1075</td>\n",
       "      <td>8000.0000</td>\n",
       "    </tr>\n",
       "    <tr>\n",
       "      <th>3</th>\n",
       "      <td>0.1299</td>\n",
       "      <td>25000.0000</td>\n",
       "    </tr>\n",
       "    <tr>\n",
       "      <th>4</th>\n",
       "      <td>0.1825</td>\n",
       "      <td>35000.0000</td>\n",
       "    </tr>\n",
       "    <tr>\n",
       "      <th>...</th>\n",
       "      <td>...</td>\n",
       "      <td>...</td>\n",
       "    </tr>\n",
       "    <tr>\n",
       "      <th>1432435</th>\n",
       "      <td>0.1356</td>\n",
       "      <td>5000.0000</td>\n",
       "    </tr>\n",
       "    <tr>\n",
       "      <th>1432436</th>\n",
       "      <td>0.0646</td>\n",
       "      <td>6000.0000</td>\n",
       "    </tr>\n",
       "    <tr>\n",
       "      <th>1432437</th>\n",
       "      <td>0.1614</td>\n",
       "      <td>16000.0000</td>\n",
       "    </tr>\n",
       "    <tr>\n",
       "      <th>1432438</th>\n",
       "      <td>0.1131</td>\n",
       "      <td>16000.0000</td>\n",
       "    </tr>\n",
       "    <tr>\n",
       "      <th>1432439</th>\n",
       "      <td>0.1894</td>\n",
       "      <td>29250.0000</td>\n",
       "    </tr>\n",
       "  </tbody>\n",
       "</table>\n",
       "<p>1432440 rows × 2 columns</p>\n",
       "</div>"
      ],
      "text/plain": [
       "         int_rate  loan_amnt\n",
       "0          0.1199 12800.0000\n",
       "1          0.1531  9000.0000\n",
       "2          0.1075  8000.0000\n",
       "3          0.1299 25000.0000\n",
       "4          0.1825 35000.0000\n",
       "...           ...        ...\n",
       "1432435    0.1356  5000.0000\n",
       "1432436    0.0646  6000.0000\n",
       "1432437    0.1614 16000.0000\n",
       "1432438    0.1131 16000.0000\n",
       "1432439    0.1894 29250.0000\n",
       "\n",
       "[1432440 rows x 2 columns]"
      ]
     },
     "execution_count": 7,
     "metadata": {},
     "output_type": "execute_result"
    }
   ],
   "source": [
    "raw_df"
   ]
  },
  {
   "cell_type": "code",
   "execution_count": null,
   "id": "86f48518-d785-4e00-ac7f-342f50490386",
   "metadata": {},
   "outputs": [],
   "source": []
  },
  {
   "cell_type": "code",
   "execution_count": 8,
   "id": "0e870a40-c92d-4e85-a7e8-67725f54da55",
   "metadata": {},
   "outputs": [
    {
     "name": "stdout",
     "output_type": "stream",
     "text": [
      "<class 'pandas.core.frame.DataFrame'>\n",
      "RangeIndex: 1432440 entries, 0 to 1432439\n",
      "Data columns (total 2 columns):\n",
      " #   Column     Non-Null Count    Dtype  \n",
      "---  ------     --------------    -----  \n",
      " 0   int_rate   1432440 non-null  float64\n",
      " 1   loan_amnt  1432440 non-null  float64\n",
      "dtypes: float64(2)\n",
      "memory usage: 21.9 MB\n"
     ]
    }
   ],
   "source": [
    "raw_df.info()"
   ]
  },
  {
   "cell_type": "code",
   "execution_count": 9,
   "id": "06d78841-1c83-4e1d-9f57-8a98b36a81cb",
   "metadata": {},
   "outputs": [
    {
     "data": {
      "text/html": [
       "<div>\n",
       "<style scoped>\n",
       "    .dataframe tbody tr th:only-of-type {\n",
       "        vertical-align: middle;\n",
       "    }\n",
       "\n",
       "    .dataframe tbody tr th {\n",
       "        vertical-align: top;\n",
       "    }\n",
       "\n",
       "    .dataframe thead th {\n",
       "        text-align: right;\n",
       "    }\n",
       "</style>\n",
       "<table border=\"1\" class=\"dataframe\">\n",
       "  <thead>\n",
       "    <tr style=\"text-align: right;\">\n",
       "      <th></th>\n",
       "      <th>int_rate</th>\n",
       "      <th>loan_amnt</th>\n",
       "    </tr>\n",
       "  </thead>\n",
       "  <tbody>\n",
       "    <tr>\n",
       "      <th>count</th>\n",
       "      <td>1432440.0000</td>\n",
       "      <td>1432440.0000</td>\n",
       "    </tr>\n",
       "    <tr>\n",
       "      <th>mean</th>\n",
       "      <td>0.1300</td>\n",
       "      <td>15370.3884</td>\n",
       "    </tr>\n",
       "    <tr>\n",
       "      <th>std</th>\n",
       "      <td>0.0505</td>\n",
       "      <td>9646.0263</td>\n",
       "    </tr>\n",
       "    <tr>\n",
       "      <th>min</th>\n",
       "      <td>0.0531</td>\n",
       "      <td>1000.0000</td>\n",
       "    </tr>\n",
       "    <tr>\n",
       "      <th>25%</th>\n",
       "      <td>0.0916</td>\n",
       "      <td>8000.0000</td>\n",
       "    </tr>\n",
       "    <tr>\n",
       "      <th>50%</th>\n",
       "      <td>0.1213</td>\n",
       "      <td>13000.0000</td>\n",
       "    </tr>\n",
       "    <tr>\n",
       "      <th>75%</th>\n",
       "      <td>0.1577</td>\n",
       "      <td>20000.0000</td>\n",
       "    </tr>\n",
       "    <tr>\n",
       "      <th>max</th>\n",
       "      <td>0.3099</td>\n",
       "      <td>40000.0000</td>\n",
       "    </tr>\n",
       "  </tbody>\n",
       "</table>\n",
       "</div>"
      ],
      "text/plain": [
       "          int_rate    loan_amnt\n",
       "count 1432440.0000 1432440.0000\n",
       "mean        0.1300   15370.3884\n",
       "std         0.0505    9646.0263\n",
       "min         0.0531    1000.0000\n",
       "25%         0.0916    8000.0000\n",
       "50%         0.1213   13000.0000\n",
       "75%         0.1577   20000.0000\n",
       "max         0.3099   40000.0000"
      ]
     },
     "execution_count": 9,
     "metadata": {},
     "output_type": "execute_result"
    }
   ],
   "source": [
    "raw_df.describe(include='all')"
   ]
  },
  {
   "cell_type": "code",
   "execution_count": 10,
   "id": "bef05c66-de3c-474f-9d4c-f74db1ca3bc9",
   "metadata": {},
   "outputs": [],
   "source": [
    "#raw_df['int_rate'].str.rstrip('%').astype('float').describe()"
   ]
  },
  {
   "cell_type": "code",
   "execution_count": 11,
   "id": "5ab974c7-7b13-477d-af8d-3ec0393e7558",
   "metadata": {},
   "outputs": [],
   "source": [
    "# raw_df['int_rate'].str.rstrip('%').astype('float').sort_values(ascending=False)"
   ]
  },
  {
   "cell_type": "code",
   "execution_count": 12,
   "id": "91acd6cd-a658-4ec9-a968-38472f201fbd",
   "metadata": {},
   "outputs": [
    {
     "data": {
      "text/plain": [
       "int_rate\n",
       "0.0531     8613\n",
       "0.0532    36953\n",
       "0.0600      493\n",
       "0.0607     5019\n",
       "0.0608     2968\n",
       "          ...  \n",
       "0.3079     1223\n",
       "0.3084      676\n",
       "0.3089      484\n",
       "0.3094      324\n",
       "0.3099      464\n",
       "Length: 258, dtype: int64"
      ]
     },
     "execution_count": 12,
     "metadata": {},
     "output_type": "execute_result"
    }
   ],
   "source": [
    "raw_df.groupby('int_rate').size()"
   ]
  },
  {
   "cell_type": "code",
   "execution_count": 13,
   "id": "7f2c47ac-5103-4d30-96d1-b42ba9d65ac3",
   "metadata": {},
   "outputs": [
    {
     "data": {
      "text/plain": [
       "int_rate\n",
       "0.1149    49032\n",
       "0.1274    41977\n",
       "0.1349    39202\n",
       "0.1399    39032\n",
       "0.0532    36953\n",
       "          ...  \n",
       "0.2599        2\n",
       "0.2199        2\n",
       "0.1529        2\n",
       "0.1319        1\n",
       "0.1116        1\n",
       "Name: count, Length: 258, dtype: int64"
      ]
     },
     "execution_count": 13,
     "metadata": {},
     "output_type": "execute_result"
    }
   ],
   "source": [
    "raw_df['int_rate'].value_counts()"
   ]
  },
  {
   "cell_type": "code",
   "execution_count": 14,
   "id": "2ce8b436-59a7-4e44-9064-72b7a9c42935",
   "metadata": {},
   "outputs": [],
   "source": [
    "#raw_df['emp_length'].value_counts()"
   ]
  },
  {
   "cell_type": "markdown",
   "id": "b95712fd-e527-47ee-b76b-d77c8c816255",
   "metadata": {},
   "source": [
    "# 2. Data Rules and Use them for Measurement"
   ]
  },
  {
   "cell_type": "code",
   "execution_count": 15,
   "id": "3a102d13-8054-43fb-a48b-8edbb682f3bd",
   "metadata": {},
   "outputs": [],
   "source": [
    "# Define your data rules here\n",
    "data_rules = {\n",
    "    'int_rate': r'^\\d+\\.\\d{2}$',\n",
    "    'loan_amnt': lambda x: \"NULL\" if pd.isna(x) else (\"FALSE\" if not 1000 <= float(x) <= 40000 else \"TRUE\")\n",
    "}"
   ]
  },
  {
   "cell_type": "code",
   "execution_count": 16,
   "id": "8675e15f-0cec-42df-b7e7-cf365f7ae1eb",
   "metadata": {},
   "outputs": [],
   "source": [
    "import re\n",
    "import pandas as pd\n",
    "from sqlalchemy import create_engine\n",
    "import urllib\n",
    "\n",
    "\n",
    "def validate_data(df, data_rules):\n",
    "    \"\"\"Apply regex patterns or custom functions to validate data in dataframe columns.\"\"\"\n",
    "    for column, rule in data_rules.items():\n",
    "        if isinstance(rule, str):  # Regex pattern\n",
    "            df[f'corrected_format_{column}'] = df[column].apply(\n",
    "                lambda x: \"NULL\" if pd.isna(x) else (\"TRUE\" if re.match(rule, str(x)) else \"FALSE\")\n",
    "            )\n",
    "        elif callable(rule):  # Function to handle complex validations\n",
    "            df[f'corrected_format_{column}'] = df[column].apply(\n",
    "                lambda x: \"NULL\" if pd.isna(x) else rule(x)\n",
    "            )\n",
    "    return df\n",
    "\n",
    "def compute_summary(df, column):\n",
    "    \"\"\"Print detailed summary for validation results of a specific column.\"\"\"\n",
    "    total_rows = df.shape[0]\n",
    "    num_na = (df[f'corrected_format_{column}'] == \"NULL\").sum()\n",
    "    num_not_na = total_rows - num_na\n",
    "    num_correct = (df[f'corrected_format_{column}'] == \"TRUE\").sum()\n",
    "    num_incorrect = (df[f'corrected_format_{column}'] == \"FALSE\").sum()\n",
    "\n",
    "    print(f'Total rows: {total_rows}')\n",
    "    print(f'Number of rows with {column} is NULL: {num_na}')\n",
    "    print(f'Number of rows with {column} is not NULL: {num_not_na}')\n",
    "    print(f'Number of rows with correct {column} format and not null: {num_correct}')\n",
    "    if num_not_na > 0:  # Prevent division by zero\n",
    "        print(f'Percentage of rows with correct {column} format and not null: {num_correct / num_not_na * 100:.2f}%')\n",
    "    else:\n",
    "        print(\"No non-null data available to calculate percentage of correct format.\")\n",
    "    print(f'Number of rows with incorrect {column} format and not null: {num_incorrect}')\n",
    "    if num_not_na > 0:  # Prevent division by zero\n",
    "        print(f'Percentage of rows with incorrect {column} format and not null: {num_incorrect / num_not_na * 100:.2f}%')\n",
    "    print(\"-----------------------------------------------------------------------------------\")\n",
    "\n",
    "def save_to_sql(df, engine, table_name):\n",
    "    df.to_sql(table_name, con=engine, if_exists='replace', index=False)"
   ]
  },
  {
   "cell_type": "code",
   "execution_count": null,
   "id": "eea3fe8c-f057-4935-a33d-b220036eda6f",
   "metadata": {},
   "outputs": [],
   "source": []
  },
  {
   "cell_type": "code",
   "execution_count": 17,
   "id": "5e1b11b4-c57d-4ba7-b547-1017c5167aa3",
   "metadata": {},
   "outputs": [
    {
     "name": "stderr",
     "output_type": "stream",
     "text": [
      "/var/folders/c5/rm_4lzt124325_03btchbfy00000gn/T/ipykernel_2530/740017105.py:11: SettingWithCopyWarning: \n",
      "A value is trying to be set on a copy of a slice from a DataFrame.\n",
      "Try using .loc[row_indexer,col_indexer] = value instead\n",
      "\n",
      "See the caveats in the documentation: https://pandas.pydata.org/pandas-docs/stable/user_guide/indexing.html#returning-a-view-versus-a-copy\n",
      "  df[f'corrected_format_{column}'] = df[column].apply(\n",
      "/var/folders/c5/rm_4lzt124325_03btchbfy00000gn/T/ipykernel_2530/740017105.py:15: SettingWithCopyWarning: \n",
      "A value is trying to be set on a copy of a slice from a DataFrame.\n",
      "Try using .loc[row_indexer,col_indexer] = value instead\n",
      "\n",
      "See the caveats in the documentation: https://pandas.pydata.org/pandas-docs/stable/user_guide/indexing.html#returning-a-view-versus-a-copy\n",
      "  df[f'corrected_format_{column}'] = df[column].apply(\n"
     ]
    },
    {
     "name": "stdout",
     "output_type": "stream",
     "text": [
      "Total rows: 1432440\n",
      "Number of rows with int_rate is NULL: 0\n",
      "Number of rows with int_rate is not NULL: 1432440\n",
      "Number of rows with correct int_rate format and not null: 1081\n",
      "Percentage of rows with correct int_rate format and not null: 0.08%\n",
      "Number of rows with incorrect int_rate format and not null: 1431359\n",
      "Percentage of rows with incorrect int_rate format and not null: 99.92%\n",
      "-----------------------------------------------------------------------------------\n",
      "Total rows: 1432440\n",
      "Number of rows with loan_amnt is NULL: 0\n",
      "Number of rows with loan_amnt is not NULL: 1432440\n",
      "Number of rows with correct loan_amnt format and not null: 1432440\n",
      "Percentage of rows with correct loan_amnt format and not null: 100.00%\n",
      "Number of rows with incorrect loan_amnt format and not null: 0\n",
      "Percentage of rows with incorrect loan_amnt format and not null: 0.00%\n",
      "-----------------------------------------------------------------------------------\n"
     ]
    }
   ],
   "source": [
    "# Implement in main script\n",
    "if __name__ == \"__main__\":\n",
    "    #filepath = 'LoanStats_web.csv'\n",
    "    columns = list(data_rules.keys())\n",
    "    #df = load_file(filepath, columns)\n",
    "    df = validate_data(raw_df, data_rules)\n",
    "    for column in data_rules.keys():\n",
    "        compute_summary(df, column)\n",
    "    \n",
    "    \n",
    "    # ตั้งค่าการเชื่อมต่อกับ MSSQL โดยใช้ข้อมูลที่เหมาะสมกับสภาพแวดล้อมของคุณ\n",
    "    params = urllib.parse.quote_plus(\"DRIVER={ODBC Driver 17 for SQL Server};SERVER=server;DATABASE=database;UID=username;PWD=password\")\n",
    "    ##### engine = create_engine(f\"mssql+pyodbc:///?odbc_connect={params}\")\n",
    "    # Using pymssql\n",
    "    engine = create_engine(f'mssql+pymssql://{username}:{password}@{server}/{database}')\n",
    "    \n",
    "    save_to_sql(df, engine, table_name)\n"
   ]
  },
  {
   "cell_type": "code",
   "execution_count": null,
   "id": "f4aad568-2fd4-4db6-9086-beefa811af64",
   "metadata": {},
   "outputs": [],
   "source": []
  }
 ],
 "metadata": {
  "kernelspec": {
   "display_name": "Python 3 (ipykernel)",
   "language": "python",
   "name": "python3"
  },
  "language_info": {
   "codemirror_mode": {
    "name": "ipython",
    "version": 3
   },
   "file_extension": ".py",
   "mimetype": "text/x-python",
   "name": "python",
   "nbconvert_exporter": "python",
   "pygments_lexer": "ipython3",
   "version": "3.8.18"
  }
 },
 "nbformat": 4,
 "nbformat_minor": 5
}
